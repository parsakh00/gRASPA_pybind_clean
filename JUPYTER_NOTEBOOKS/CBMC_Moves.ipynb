{
 "cells": [
  {
   "cell_type": "code",
   "execution_count": 1,
   "id": "ecc98052-db56-4238-a6fe-1168baa7196d",
   "metadata": {},
   "outputs": [],
   "source": [
    "import gRASPA as g"
   ]
  },
  {
   "cell_type": "code",
   "execution_count": 2,
   "id": "e38dbd32-36cf-43d4-a58a-56d1b07b7d2a",
   "metadata": {},
   "outputs": [
    {
     "name": "stdout",
     "output_type": "stream",
     "text": [
      "/home/z/anaconda3/bin/python3.12------------------GENERAL SIMULATION SETUP-------------\n",
      "Finished Checking Number of Components, There are 1 framework, 1 Adsorbates, 2 total Components\n",
      "DONE Reading Model Info from simulation.input file\n",
      "Running Cycles in the Normal Way\n",
      "-------------------------------------------------------\n",
      "device_random[0] = 2.30000 4.50000 6.70000\n",
      "==========================================\n",
      "====== Preparing Simulation box 0 ======\n",
      "==========================================\n",
      "Parsing [1] Component\n",
      "-------------- READING AdsorbateComponent 0 (CO2) --------------\n",
      "==================================================\n",
      "ACCUMULATED Probabilities:\n",
      "Translation Probability:      0.25000\n",
      "Rotation Probability:         0.50000\n",
      "Special Rotation Probability: 0.50000\n",
      "Widom Probability:            0.50000\n",
      "Reinsertion Probability:      0.75000\n",
      "Identity Swap Probability:    0.75000\n",
      "CBCF Swap Probability:        0.75000\n",
      "Swap Probability:             1.00000\n",
      "Volume Probability:           1.00000\n",
      "Gibbs Swap Probability:       1.00000\n",
      "Gibbs Volume Probability:     1.00000\n",
      "Sum of Probabilities:         1.00000\n",
      "==================================================\n",
      "-------------- END OF READING Component 0 (CO2) --------------\n",
      "Rosen capacity: 10\n",
      "Allocated 6 double3 for reinsertion!\n",
      "HHVDW: 0.00000, HHReal: 0.00000, HGVDW: 0.00000, HGReal: 0.00000, GGVDW: 0.00000, GGReal: 0.00000, HHEwaldE: 0.00004,\n",
      " HGEwaldE: 0.00000,\n",
      " GGEwaldE: 0.00000, TailE: 0.00000, DNN_E: 0.00000\n",
      "Stored HGVDW: 0.00000, Stored HGReal: 0.00000, Stored HGEwaldE: 0.00000\n"
     ]
    },
    {
     "name": "stderr",
     "output_type": "stream",
     "text": [
      "================FUGACITY COEFFICIENT CALCULATION================\n",
      "Checking: Current Fugacity Coeff for 1 component: 1.00000\n",
      "Every Adsorbate Component has fugacity coefficient assigned, skip EOS calculation!\n",
      "----------------- MEMORY ALLOCAION STATUS -----------------\n",
      "System allocate_sizes are: 2304, 2000\n",
      "Component allocate_sizes are: 2304, 2000\n",
      "Allocated Blocksum size: 3601, vdw_real size: 3601, fourier_size: 0\n",
      "------------------------------------------------------------\n",
      "------------------- SIMULATION BOX PARAMETERS -----------------\n",
      "Pressure:        0.00060\n",
      "Box Volume:      42656.20098\n",
      "Box Beta:        0.00404\n",
      "Box Temperature: 298.00000\n",
      "---------------------------------------------------------------\n",
      "======================== CALCULATING INITIAL STAGE ENERGY ========================\n",
      "****** Calculating VDW + Real Energy (CPU) ******\n",
      "Host-Host   VDW: 0.00000; Real: 0.00000\n",
      "Host-Guest  VDW: 0.00000; Real: 0.00000\n",
      "Guest-Guest VDW: 0.00000; Real: 0.00000\n",
      "********** PRINTING COMPONENT ENERGIES**********\n",
      "Compoent [0-0], VDW: 0.00000, Real: 0.00000\n",
      "Compoent [0-1], VDW: 0.00000, Real: 0.00000\n",
      "Compoent [1-1], VDW: 0.00000, Real: 0.00000\n",
      "****** Calculating Ewald Energy (CPU) ******\n",
      "CPU Guest-Guest Fourier: 0.00000, Host-Host Fourier: 409293.46532, Framework-Guest Fourier: 0.00000\n",
      "Component: 0, SelfAtomE: 100586536.82400 (120977870.55210 kJ/mol)\n",
      "Component: 1, SelfAtomE: 0.00000 (0.00000 kJ/mol)\n",
      "Component: 0, Intra-Molecular ExclusionE: 115033008.45111 (138352992.80625 kJ/mol)\n",
      "Component: 1, Intra-Molecular ExclusionE: 0.00000 (0.00000 kJ/mol)\n",
      "HostEwald took 0.21017 sec\n",
      "Ewald Summation (total energy) on the CPU took 0.21017 secs\n",
      "Component 0, Intra Exclusion Energy: -115033008.45111 (-138352992.80625 kJ/mol)\n",
      "Component 0, Atom Self Exclusion Energy: 100586536.82400 (120977870.55210 kJ/mol)\n",
      "DEBUG: comp: 0, IntraE: -115033008.45111, SelfE: 100586536.82400\n",
      "Component 1, Intra Exclusion Energy: -13173.67573 (-15844.29972 kJ/mol)\n",
      "Component 1, Atom Self Exclusion Energy: 13215.98988 (15895.19197 kJ/mol)\n",
      "DEBUG: comp: 1, IntraE: -13173.67573, SelfE: 13215.98988\n",
      "******   Allocating Ewald WaveVectors + StructureFactors (INITIAL STAGE ONLY)   ******\n",
      "Allocated 110592 110592 73728 space for eikxyz\n",
      "Structure Factor 0 is 0.00000 0.00000\n",
      "Structure Factor 1 is 0.00000 0.00000\n",
      "Structure Factor 2 is 0.00000 0.00000\n",
      "Structure Factor 3 is 0.00000 0.00000\n",
      "Structure Factor 4 is 0.00000 0.00000\n",
      "Structure Factor 5 is 0.00000 0.00000\n",
      "Structure Factor 6 is 0.00000 0.00000\n",
      "Structure Factor 7 is 0.00000 0.00000\n",
      "Structure Factor 8 is 0.00000 0.00000\n",
      "Structure Factor 9 is 0.00000 0.00000\n",
      "****** DONE Allocating Ewald WaveVectors + StructureFactors(INITIAL STAGE ONLY) ******\n",
      " ****** CHECKING StructureFactors (SF) Stored on CPU vs. GPU ****** \n",
      "CPU SF: 4140, GPU SF: 4140\n",
      "StructureFactor 0, CPU: 0.00000 0.00000, GPU: 0.00000 0.00000\n",
      "StructureFactor 1, CPU: 0.00000 0.00000, GPU: 0.00000 0.00000\n",
      "StructureFactor 2, CPU: 0.00000 0.00000, GPU: 0.00000 0.00000\n",
      "StructureFactor 3, CPU: 0.00000 0.00000, GPU: 0.00000 0.00000\n",
      "StructureFactor 4, CPU: 0.00000 0.00000, GPU: 0.00000 0.00000\n",
      "StructureFactor 5, CPU: 0.00000 0.00000, GPU: 0.00000 0.00000\n",
      "StructureFactor 6, CPU: 0.00000 0.00000, GPU: 0.00000 0.00000\n",
      "StructureFactor 7, CPU: 0.00000 0.00000, GPU: 0.00000 0.00000\n",
      "StructureFactor 8, CPU: 0.00000 0.00000, GPU: 0.00000 0.00000\n",
      "StructureFactor 9, CPU: 0.00000 0.00000, GPU: 0.00000 0.00000\n",
      " ****** CHECKING Framework StructureFactors Stored on CPU ****** \n",
      "Framework Structure Factor 0, real: 0.00000 imag: 0.00000\n",
      "Framework Structure Factor 1, real: 0.00000 imag: 0.00000\n",
      "Framework Structure Factor 2, real: 0.00000 imag: 0.00000\n",
      "Framework Structure Factor 3, real: 0.00000 imag: 0.00000\n",
      "Framework Structure Factor 4, real: 0.00000 imag: 0.00000\n",
      "Framework Structure Factor 5, real: -0.00000 imag: 0.00000\n",
      "Framework Structure Factor 6, real: 0.00000 imag: 0.00000\n",
      "Framework Structure Factor 7, real: -0.00000 imag: -0.00000\n",
      "Framework Structure Factor 8, real: 0.00000 imag: 0.00000\n",
      "Framework Structure Factor 9, real: 0.00000 imag: -0.00000\n",
      "VDW + Real on the GPU took 0.00000 secs\n",
      "Ewald Summation (total energy) on the GPU took 0.00139 secs\n",
      "Total GPU Energy: \n",
      "====================== DONE CALCULATING INITIAL STAGE ENERGY ======================\n",
      "Component 1, Need to create 0 full molecule\n",
      "======================== CALCULATING CREATE_MOLECULE STAGE ENERGY ========================\n",
      "****** Calculating VDW + Real Energy (CPU) ******\n",
      "Host-Host   VDW: 0.00000; Real: 0.00000\n",
      "Host-Guest  VDW: 0.00000; Real: 0.00000\n",
      "Guest-Guest VDW: 0.00000; Real: 0.00000\n",
      "********** PRINTING COMPONENT ENERGIES**********\n",
      "Compoent [0-0], VDW: 0.00000, Real: 0.00000\n",
      "Compoent [0-1], VDW: 0.00000, Real: 0.00000\n",
      "Compoent [1-1], VDW: 0.00000, Real: 0.00000\n",
      "****** Calculating Ewald Energy (CPU) ******\n",
      "CPU Guest-Guest Fourier: 0.00000, Host-Host Fourier: 409293.46532, Framework-Guest Fourier: 0.00000\n",
      "Component: 0, SelfAtomE: 100586536.82400 (120977870.55210 kJ/mol)\n",
      "Component: 1, SelfAtomE: 0.00000 (0.00000 kJ/mol)\n",
      "Component: 0, Intra-Molecular ExclusionE: 115033008.45111 (138352992.80625 kJ/mol)\n",
      "Component: 1, Intra-Molecular ExclusionE: 0.00000 (0.00000 kJ/mol)\n",
      "HostEwald took 0.20776 sec\n",
      "Ewald Summation (total energy) on the CPU took 0.20776 secs\n",
      " ****** CHECKING StructureFactors (SF) Stored on CPU vs. GPU ****** \n",
      "CPU SF: 4140, GPU SF: 4140\n",
      "StructureFactor 0, CPU: 0.00000 0.00000, GPU: 0.00000 0.00000\n",
      "StructureFactor 1, CPU: 0.00000 0.00000, GPU: 0.00000 0.00000\n",
      "StructureFactor 2, CPU: 0.00000 0.00000, GPU: 0.00000 0.00000\n",
      "StructureFactor 3, CPU: 0.00000 0.00000, GPU: 0.00000 0.00000\n",
      "StructureFactor 4, CPU: 0.00000 0.00000, GPU: 0.00000 0.00000\n",
      "StructureFactor 5, CPU: 0.00000 0.00000, GPU: 0.00000 0.00000\n",
      "StructureFactor 6, CPU: 0.00000 0.00000, GPU: 0.00000 0.00000\n",
      "StructureFactor 7, CPU: 0.00000 0.00000, GPU: 0.00000 0.00000\n",
      "StructureFactor 8, CPU: 0.00000 0.00000, GPU: 0.00000 0.00000\n",
      "StructureFactor 9, CPU: 0.00000 0.00000, GPU: 0.00000 0.00000\n",
      " ****** CHECKING Framework StructureFactors Stored on CPU ****** \n",
      "Framework Structure Factor 0, real: 0.00000 imag: 0.00000\n",
      "Framework Structure Factor 1, real: 0.00000 imag: 0.00000\n",
      "Framework Structure Factor 2, real: 0.00000 imag: 0.00000\n",
      "Framework Structure Factor 3, real: 0.00000 imag: 0.00000\n",
      "Framework Structure Factor 4, real: 0.00000 imag: 0.00000\n",
      "Framework Structure Factor 5, real: -0.00000 imag: 0.00000\n",
      "Framework Structure Factor 6, real: 0.00000 imag: 0.00000\n",
      "Framework Structure Factor 7, real: -0.00000 imag: -0.00000\n",
      "Framework Structure Factor 8, real: 0.00000 imag: 0.00000\n",
      "Framework Structure Factor 9, real: 0.00000 imag: -0.00000\n",
      "VDW + Real on the GPU took 0.00000 secs\n",
      "Ewald Summation (total energy) on the GPU took 0.00143 secs\n",
      "Total GPU Energy: \n",
      "====================== DONE CALCULATING CREATE_MOLECULE STAGE ENERGY ======================\n"
     ]
    }
   ],
   "source": [
    "W = g.Initialize()\n",
    "W.NumberOfInitializationCycles = 100\n",
    "W.NumberOfProductionCycles = 0"
   ]
  },
  {
   "cell_type": "code",
   "execution_count": 3,
   "id": "ebd10b8b-b564-4665-9863-8ee2e7506192",
   "metadata": {},
   "outputs": [
    {
     "name": "stdout",
     "output_type": "stream",
     "text": [
      "HHVDW: 0.00000, HHReal: 0.00000, HGVDW: 0.00000, HGReal: 0.00000, GGVDW: 0.00000, GGReal: 0.00000, HHEwaldE: 0.00004,\n",
      " HGEwaldE: 0.00000,\n",
      " GGEwaldE: 0.00000, TailE: 0.00000, DNN_E: 0.00000\n",
      "Stored HGVDW: 0.00000, Stored HGReal: 0.00000, Stored HGEwaldE: 0.00000\n"
     ]
    }
   ],
   "source": [
    "# run the single-box MC moves through python #\n",
    "box_index = 0 # run simulation box 0 #"
   ]
  },
  {
   "cell_type": "code",
   "execution_count": 4,
   "id": "3888e101-16b7-4b2d-9ed2-12cecdc9ea9c",
   "metadata": {},
   "outputs": [
    {
     "name": "stderr",
     "output_type": "stream",
     "text": [
      "==================================\n",
      "== RUNNING INITIALIZATION PHASE ==\n",
      "==================================\n",
      "CBMC Uses 10 trial positions and 10 trial orientations\n",
      "Box 0, Volume: 42656.20098\n",
      "Total Volume: 42656.20098\n"
     ]
    }
   ],
   "source": [
    "# Initialize MC move, this step will initialize a stage of the simulation (Initialization/Equilibration/Production phases)\n",
    "# For example, it will initialize (clean up) the vectors for storing averages if the stage is production phase\n",
    "g.InitializeMC(W, box_index)"
   ]
  },
  {
   "cell_type": "code",
   "execution_count": 5,
   "id": "bf5ddba7-aeee-41ca-953d-a1e705d70e1b",
   "metadata": {},
   "outputs": [],
   "source": [
    "# Run a move, starting by randomly selecting a component in the box and a molecule in that component\n",
    "g.Select_Box_Component_Molecule(W, box_index)"
   ]
  },
  {
   "cell_type": "code",
   "execution_count": 6,
   "id": "8315d139-fde5-43d3-886e-d3d3c8f4d5cf",
   "metadata": {},
   "outputs": [],
   "source": [
    "# Select a move, here we tell the code to run a single-particle insertion move (no CBMC)\n",
    "MoveType = g.MoveTypes.REINSERTION\n",
    "W.SystemComponents[box_index].MCMoveVariables.MoveType = int(MoveType) # write it back to the variables so that later processes will know"
   ]
  },
  {
   "cell_type": "code",
   "execution_count": 7,
   "id": "08747258-37a3-487c-88b2-840a106adf5d",
   "metadata": {},
   "outputs": [],
   "source": [
    "# prepare Reinsertion move #\n",
    "REINSERTION = g.ReinsertionMove()\n",
    "REINSERTION.Initialize()\n",
    "REINSERTION.Calculate_Insertion(W, box_index)"
   ]
  },
  {
   "cell_type": "code",
   "execution_count": 8,
   "id": "8a5415c0-374f-4a31-8feb-0eeef01c0ac3",
   "metadata": {},
   "outputs": [
    {
     "data": {
      "text/plain": [
       "8"
      ]
     },
     "execution_count": 8,
     "metadata": {},
     "output_type": "execute_result"
    }
   ],
   "source": [
    "REINSERTION.InsertionVariables.selectedTrial"
   ]
  },
  {
   "cell_type": "code",
   "execution_count": 9,
   "id": "9c1cbe8a-bd25-4909-9067-c82d3c45a9f6",
   "metadata": {},
   "outputs": [
    {
     "data": {
      "text/plain": [
       "1"
      ]
     },
     "execution_count": 9,
     "metadata": {},
     "output_type": "execute_result"
    }
   ],
   "source": [
    "REINSERTION.InsertionVariables.selectedTrialOrientation"
   ]
  },
  {
   "cell_type": "code",
   "execution_count": 10,
   "id": "b0ebe7c7-2e25-41dd-aeaa-cfa4024c5ba5",
   "metadata": {},
   "outputs": [
    {
     "data": {
      "text/plain": [
       "1.3657108060348182e-11"
      ]
     },
     "execution_count": 10,
     "metadata": {},
     "output_type": "execute_result"
    }
   ],
   "source": [
    "REINSERTION.InsertionVariables.Rosenbluth"
   ]
  },
  {
   "cell_type": "code",
   "execution_count": 11,
   "id": "679df609-a3e9-4c2f-b814-37c3f01a8f6c",
   "metadata": {},
   "outputs": [],
   "source": [
    "REINSERTION.Calculate_Deletion(W, box_index)"
   ]
  },
  {
   "cell_type": "code",
   "execution_count": 12,
   "id": "a6e3e73e-e0b8-45b6-8dc0-30e2ff326e0d",
   "metadata": {},
   "outputs": [
    {
     "name": "stdout",
     "output_type": "stream",
     "text": [
      "HHVDW: 0.00000, HHReal: 0.00000, HGVDW: -1260.66888, HGReal: -4619.86052, GGVDW: 0.00000, GGReal: 0.00000, HHEwaldE: 0.00000,\n",
      " HGEwaldE: 0.00000,\n",
      " GGEwaldE: 0.00000, TailE: 0.00000, DNN_E: 0.00000\n",
      "Stored HGVDW: 0.00000, Stored HGReal: 0.00000, Stored HGEwaldE: 0.00000\n"
     ]
    }
   ],
   "source": [
    "REINSERTION.DeletionVariables.ChainEnergy.print()"
   ]
  },
  {
   "cell_type": "code",
   "execution_count": 13,
   "id": "4ed615de-e7c7-412a-b540-f3eede49832d",
   "metadata": {},
   "outputs": [],
   "source": [
    "REINSERTION.Calculate_AdjustRosenbluth(W, box_index)"
   ]
  },
  {
   "cell_type": "markdown",
   "id": "4d3a1c32-7bcd-4173-aeef-9164db0ae67e",
   "metadata": {},
   "source": [
    "## After calculating the adjustment to the Rosenbluth weight, the correction to the Rosenbluth weights are added to the Insertion Rosenbluth weight. \n",
    "* This includes the delta energy for Ewald summation, tail corrections, DNN, ... \n",
    "* NOTE: Although deltaE in Ewald summation has both the new configuration and old configuration parts, they are all added to the insertion Rosenbluth weight"
   ]
  },
  {
   "cell_type": "code",
   "execution_count": 14,
   "id": "c8a79d93-de10-4311-90f6-106cb30f6586",
   "metadata": {},
   "outputs": [
    {
     "data": {
      "text/plain": [
       "1.0530039328051977e-09"
      ]
     },
     "execution_count": 14,
     "metadata": {},
     "output_type": "execute_result"
    }
   ],
   "source": [
    "REINSERTION.InsertionVariables.Rosenbluth"
   ]
  },
  {
   "cell_type": "code",
   "execution_count": 15,
   "id": "d968fd61-ece2-4144-8586-9c4badf016dd",
   "metadata": {},
   "outputs": [],
   "source": [
    "REINSERTION.Acceptance(W, box_index)"
   ]
  },
  {
   "cell_type": "code",
   "execution_count": 16,
   "id": "3b025800-02ec-4053-9089-7320762897c4",
   "metadata": {},
   "outputs": [
    {
     "data": {
      "text/plain": [
       "True"
      ]
     },
     "execution_count": 16,
     "metadata": {},
     "output_type": "execute_result"
    }
   ],
   "source": [
    "REINSERTION.Accept"
   ]
  },
  {
   "cell_type": "markdown",
   "id": "2a313acb-c78a-457e-a4f5-d7c69c00bbd1",
   "metadata": {},
   "source": [
    "## Our reinsertion move is accepted ##\n",
    "* Let us see what happened"
   ]
  },
  {
   "cell_type": "code",
   "execution_count": 17,
   "id": "a042fe35-22bb-4953-9459-5368fb6c9a52",
   "metadata": {},
   "outputs": [
    {
     "data": {
      "text/plain": [
       "inf"
      ]
     },
     "execution_count": 17,
     "metadata": {},
     "output_type": "execute_result"
    }
   ],
   "source": [
    "REINSERTION.Pacc"
   ]
  },
  {
   "cell_type": "code",
   "execution_count": null,
   "id": "ac7640b8-17f3-405f-8cf7-344e73e7e82f",
   "metadata": {},
   "outputs": [],
   "source": []
  }
 ],
 "metadata": {
  "kernelspec": {
   "display_name": "Python 3 (ipykernel)",
   "language": "python",
   "name": "python3"
  },
  "language_info": {
   "codemirror_mode": {
    "name": "ipython",
    "version": 3
   },
   "file_extension": ".py",
   "mimetype": "text/x-python",
   "name": "python",
   "nbconvert_exporter": "python",
   "pygments_lexer": "ipython3",
   "version": "3.12.2"
  }
 },
 "nbformat": 4,
 "nbformat_minor": 5
}
